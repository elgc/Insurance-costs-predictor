{
 "cells": [
  {
   "cell_type": "markdown",
   "metadata": {},
   "source": [
    "# Random Forest Regression Polynomial Model"
   ]
  },
  {
   "cell_type": "code",
   "execution_count": 1,
   "metadata": {},
   "outputs": [],
   "source": [
    "#Import libraries\n",
    "import numpy as np\n",
    "import matplotlib.pyplot as plt\n",
    "import pandas as pd\n",
    "import seaborn as sns\n",
    "%matplotlib inline\n",
    "plt.style.use('tableau-colorblind10')"
   ]
  },
  {
   "cell_type": "code",
   "execution_count": 2,
   "metadata": {},
   "outputs": [
    {
     "data": {
      "text/html": [
       "<div>\n",
       "<style scoped>\n",
       "    .dataframe tbody tr th:only-of-type {\n",
       "        vertical-align: middle;\n",
       "    }\n",
       "\n",
       "    .dataframe tbody tr th {\n",
       "        vertical-align: top;\n",
       "    }\n",
       "\n",
       "    .dataframe thead th {\n",
       "        text-align: right;\n",
       "    }\n",
       "</style>\n",
       "<table border=\"1\" class=\"dataframe\">\n",
       "  <thead>\n",
       "    <tr style=\"text-align: right;\">\n",
       "      <th></th>\n",
       "      <th>age</th>\n",
       "      <th>sex</th>\n",
       "      <th>bmi</th>\n",
       "      <th>children</th>\n",
       "      <th>smoker</th>\n",
       "      <th>region</th>\n",
       "      <th>charges</th>\n",
       "    </tr>\n",
       "  </thead>\n",
       "  <tbody>\n",
       "    <tr>\n",
       "      <th>0</th>\n",
       "      <td>19</td>\n",
       "      <td>female</td>\n",
       "      <td>27.900</td>\n",
       "      <td>0</td>\n",
       "      <td>yes</td>\n",
       "      <td>southwest</td>\n",
       "      <td>16884.92400</td>\n",
       "    </tr>\n",
       "    <tr>\n",
       "      <th>1</th>\n",
       "      <td>18</td>\n",
       "      <td>male</td>\n",
       "      <td>33.770</td>\n",
       "      <td>1</td>\n",
       "      <td>no</td>\n",
       "      <td>southeast</td>\n",
       "      <td>1725.55230</td>\n",
       "    </tr>\n",
       "    <tr>\n",
       "      <th>2</th>\n",
       "      <td>28</td>\n",
       "      <td>male</td>\n",
       "      <td>33.000</td>\n",
       "      <td>3</td>\n",
       "      <td>no</td>\n",
       "      <td>southeast</td>\n",
       "      <td>4449.46200</td>\n",
       "    </tr>\n",
       "    <tr>\n",
       "      <th>3</th>\n",
       "      <td>33</td>\n",
       "      <td>male</td>\n",
       "      <td>22.705</td>\n",
       "      <td>0</td>\n",
       "      <td>no</td>\n",
       "      <td>northwest</td>\n",
       "      <td>21984.47061</td>\n",
       "    </tr>\n",
       "    <tr>\n",
       "      <th>4</th>\n",
       "      <td>32</td>\n",
       "      <td>male</td>\n",
       "      <td>28.880</td>\n",
       "      <td>0</td>\n",
       "      <td>no</td>\n",
       "      <td>northwest</td>\n",
       "      <td>3866.85520</td>\n",
       "    </tr>\n",
       "  </tbody>\n",
       "</table>\n",
       "</div>"
      ],
      "text/plain": [
       "   age     sex     bmi  children smoker     region      charges\n",
       "0   19  female  27.900         0    yes  southwest  16884.92400\n",
       "1   18    male  33.770         1     no  southeast   1725.55230\n",
       "2   28    male  33.000         3     no  southeast   4449.46200\n",
       "3   33    male  22.705         0     no  northwest  21984.47061\n",
       "4   32    male  28.880         0     no  northwest   3866.85520"
      ]
     },
     "execution_count": 2,
     "metadata": {},
     "output_type": "execute_result"
    }
   ],
   "source": [
    "# Import data file\n",
    "\n",
    "dataset=pd.read_csv('insurance.csv')\n",
    "\n",
    "dataset.head()"
   ]
  },
  {
   "cell_type": "markdown",
   "metadata": {},
   "source": [
    "### Histogram of charge (label)"
   ]
  },
  {
   "cell_type": "code",
   "execution_count": 3,
   "metadata": {},
   "outputs": [
    {
     "data": {
      "image/png": "[encoded data removed]",
      "text/plain": [
       "<Figure size 432x288 with 1 Axes>"
      ]
     },
     "metadata": {
      "needs_background": "light"
     },
     "output_type": "display_data"
    }
   ],
   "source": [
    "plt.hist(dataset['charges'])\n",
    "plt.title(\"Histogram of charges\")\n",
    "plt.show() "
   ]
  },
  {
   "cell_type": "markdown",
   "metadata": {
    "tags": []
   },
   "source": [
    "## Encoding categorical data"
   ]
  },
  {
   "cell_type": "code",
   "execution_count": 4,
   "metadata": {
    "scrolled": true
   },
   "outputs": [
    {
     "name": "stdout",
     "output_type": "stream",
     "text": [
      "Index(['sex', 'smoker', 'region'], dtype='object')\n"
     ]
    }
   ],
   "source": [
    "objList = dataset.select_dtypes(include = \"object\").columns\n",
    "print (objList)"
   ]
  },
  {
   "cell_type": "code",
   "execution_count": 7,
   "metadata": {},
   "outputs": [
    {
     "name": "stdout",
     "output_type": "stream",
     "text": [
      "<class 'pandas.core.frame.DataFrame'>\n",
      "RangeIndex: 1338 entries, 0 to 1337\n",
      "Data columns (total 7 columns):\n",
      " #   Column    Non-Null Count  Dtype  \n",
      "---  ------    --------------  -----  \n",
      " 0   age       1338 non-null   int64  \n",
      " 1   sex       1338 non-null   int64  \n",
      " 2   bmi       1338 non-null   float64\n",
      " 3   children  1338 non-null   int64  \n",
      " 4   smoker    1338 non-null   int64  \n",
      " 5   region    1338 non-null   int64  \n",
      " 6   charges   1338 non-null   float64\n",
      "dtypes: float64(2), int64(5)\n",
      "memory usage: 73.3 KB\n",
      "None\n"
     ]
    },
    {
     "data": {
      "text/html": [
       "<div>\n",
       "<style scoped>\n",
       "    .dataframe tbody tr th:only-of-type {\n",
       "        vertical-align: middle;\n",
       "    }\n",
       "\n",
       "    .dataframe tbody tr th {\n",
       "        vertical-align: top;\n",
       "    }\n",
       "\n",
       "    .dataframe thead th {\n",
       "        text-align: right;\n",
       "    }\n",
       "</style>\n",
       "<table border=\"1\" class=\"dataframe\">\n",
       "  <thead>\n",
       "    <tr style=\"text-align: right;\">\n",
       "      <th></th>\n",
       "      <th>age</th>\n",
       "      <th>sex</th>\n",
       "      <th>bmi</th>\n",
       "      <th>children</th>\n",
       "      <th>smoker</th>\n",
       "      <th>region</th>\n",
       "      <th>charges</th>\n",
       "    </tr>\n",
       "  </thead>\n",
       "  <tbody>\n",
       "    <tr>\n",
       "      <th>0</th>\n",
       "      <td>19</td>\n",
       "      <td>0</td>\n",
       "      <td>27.900</td>\n",
       "      <td>0</td>\n",
       "      <td>1</td>\n",
       "      <td>3</td>\n",
       "      <td>16884.92400</td>\n",
       "    </tr>\n",
       "    <tr>\n",
       "      <th>1</th>\n",
       "      <td>18</td>\n",
       "      <td>1</td>\n",
       "      <td>33.770</td>\n",
       "      <td>1</td>\n",
       "      <td>0</td>\n",
       "      <td>2</td>\n",
       "      <td>1725.55230</td>\n",
       "    </tr>\n",
       "    <tr>\n",
       "      <th>2</th>\n",
       "      <td>28</td>\n",
       "      <td>1</td>\n",
       "      <td>33.000</td>\n",
       "      <td>3</td>\n",
       "      <td>0</td>\n",
       "      <td>2</td>\n",
       "      <td>4449.46200</td>\n",
       "    </tr>\n",
       "    <tr>\n",
       "      <th>3</th>\n",
       "      <td>33</td>\n",
       "      <td>1</td>\n",
       "      <td>22.705</td>\n",
       "      <td>0</td>\n",
       "      <td>0</td>\n",
       "      <td>1</td>\n",
       "      <td>21984.47061</td>\n",
       "    </tr>\n",
       "    <tr>\n",
       "      <th>4</th>\n",
       "      <td>32</td>\n",
       "      <td>1</td>\n",
       "      <td>28.880</td>\n",
       "      <td>0</td>\n",
       "      <td>0</td>\n",
       "      <td>1</td>\n",
       "      <td>3866.85520</td>\n",
       "    </tr>\n",
       "  </tbody>\n",
       "</table>\n",
       "</div>"
      ],
      "text/plain": [
       "   age  sex     bmi  children  smoker  region      charges\n",
       "0   19    0  27.900         0       1       3  16884.92400\n",
       "1   18    1  33.770         1       0       2   1725.55230\n",
       "2   28    1  33.000         3       0       2   4449.46200\n",
       "3   33    1  22.705         0       0       1  21984.47061\n",
       "4   32    1  28.880         0       0       1   3866.85520"
      ]
     },
     "execution_count": 7,
     "metadata": {},
     "output_type": "execute_result"
    }
   ],
   "source": [
    "#Label Encoding for object to numeric conversion\n",
    "from sklearn.preprocessing import LabelEncoder\n",
    "le = LabelEncoder()\n",
    "\n",
    "for feat in objList:\n",
    "    dataset[feat] = le.fit_transform(dataset[feat].astype(str))\n",
    "\n",
    "print (dataset.info())\n",
    "\n",
    "dataset.head()"
   ]
  },
  {
   "cell_type": "markdown",
   "metadata": {},
   "source": [
    "### Create X and y arrays"
   ]
  },
  {
   "cell_type": "code",
   "execution_count": 8,
   "metadata": {},
   "outputs": [
    {
     "name": "stdout",
     "output_type": "stream",
     "text": [
      "[[19.    0.   27.9   0.    1.    3.  ]\n",
      " [18.    1.   33.77  1.    0.    2.  ]\n",
      " [28.    1.   33.    3.    0.    2.  ]\n",
      " ...\n",
      " [18.    0.   36.85  0.    0.    2.  ]\n",
      " [21.    0.   25.8   0.    0.    3.  ]\n",
      " [61.    0.   29.07  0.    1.    1.  ]]\n"
     ]
    }
   ],
   "source": [
    "# Create X set and y set. They are arrays and vectors\n",
    "#X=dataset.iloc[:,0].values\n",
    "X=dataset.iloc[:,:-1].values\n",
    "print(X)\n",
    "y=dataset.iloc[:,-1].values\n",
    "\n",
    "#print(y)"
   ]
  },
  {
   "cell_type": "markdown",
   "metadata": {},
   "source": [
    "### Creating polynomial features"
   ]
  },
  {
   "cell_type": "code",
   "execution_count": 19,
   "metadata": {},
   "outputs": [
    {
     "name": "stdout",
     "output_type": "stream",
     "text": [
      "[[ 1. 19.  0. ...  1.  3.  9.]\n",
      " [ 1. 18.  1. ...  0.  0.  4.]\n",
      " [ 1. 28.  1. ...  0.  0.  4.]\n",
      " ...\n",
      " [ 1. 18.  0. ...  0.  0.  4.]\n",
      " [ 1. 21.  0. ...  0.  0.  9.]\n",
      " [ 1. 61.  0. ...  1.  1.  1.]]\n"
     ]
    }
   ],
   "source": [
    "# Create a matrix of features\n",
    "from sklearn.preprocessing import PolynomialFeatures #Importing the class\n",
    "poly_reg=PolynomialFeatures(degree=2)  # Creating an object of the class\n",
    "X_poly=poly_reg.fit_transform(X)\n",
    "print(X_poly)"
   ]
  },
  {
   "cell_type": "markdown",
   "metadata": {
    "tags": []
   },
   "source": [
    "### Creating Training and Test Data Sets"
   ]
  },
  {
   "cell_type": "code",
   "execution_count": 20,
   "metadata": {},
   "outputs": [],
   "source": [
    "from sklearn.model_selection import train_test_split\n",
    "X_train, X_test, y_train, y_test=train_test_split(X_poly,y, test_size=0.2, random_state=44)"
   ]
  },
  {
   "cell_type": "code",
   "execution_count": 21,
   "metadata": {},
   "outputs": [
    {
     "name": "stdout",
     "output_type": "stream",
     "text": [
      "[[ 1. 31.  0. ...  0.  0.  0.]\n",
      " [ 1. 20.  1. ...  1.  3.  9.]\n",
      " [ 1. 43.  0. ...  1.  1.  1.]\n",
      " ...\n",
      " [ 1. 18.  0. ...  0.  0.  4.]\n",
      " [ 1. 41.  1. ...  0.  0.  4.]\n",
      " [ 1. 58.  0. ...  0.  0.  4.]]\n"
     ]
    }
   ],
   "source": [
    "print(X_train)"
   ]
  },
  {
   "cell_type": "markdown",
   "metadata": {},
   "source": [
    "## Training Random Forest Regression on Training set"
   ]
  },
  {
   "cell_type": "code",
   "execution_count": 22,
   "metadata": {},
   "outputs": [
    {
     "data": {
      "text/plain": [
       "RandomForestRegressor()"
      ]
     },
     "execution_count": 22,
     "metadata": {},
     "output_type": "execute_result"
    }
   ],
   "source": [
    "from sklearn.ensemble import RandomForestRegressor #Calling random forest regression class\n",
    "regressor=RandomForestRegressor(verbose=0) #Creating an object of Random Forest Regressor\n",
    "regressor.fit(X_train, y_train) #Method of the Random Forest Regressor class"
   ]
  },
  {
   "cell_type": "markdown",
   "metadata": {},
   "source": [
    "## Predicting Test set results"
   ]
  },
  {
   "cell_type": "code",
   "execution_count": 23,
   "metadata": {},
   "outputs": [],
   "source": [
    "y_pred=regressor.predict(X_test) # Predicting values on test data\n",
    "#print(y_pred)"
   ]
  },
  {
   "cell_type": "code",
   "execution_count": 24,
   "metadata": {},
   "outputs": [],
   "source": [
    "np.set_printoptions(precision=2) \n",
    "#  To display with two decimal points all printed values"
   ]
  },
  {
   "cell_type": "markdown",
   "metadata": {},
   "source": [
    "### Representation of y_pred vs y_test in simple scatter plot and line representation.\n",
    "\n",
    "The gold line represents an ideal match between \"measuring devices\"\n",
    "The blue line represents the actual match between Y_pred and Y_test."
   ]
  },
  {
   "cell_type": "code",
   "execution_count": 25,
   "metadata": {},
   "outputs": [
    {
     "data": {
      "image/png": "[encoded data removed]",
      "text/plain": [
       "<Figure size 432x288 with 1 Axes>"
      ]
     },
     "metadata": {
      "needs_background": "light"
     },
     "output_type": "display_data"
    },
    {
     "name": "stdout",
     "output_type": "stream",
     "text": [
      "Slope: m= 0.90\n",
      "Intercept: b= 1804.61\n"
     ]
    }
   ],
   "source": [
    "plt.scatter(y_test, y_pred,  color='cyan')\n",
    "m, b = np.polyfit(y_test, y_pred, 1) # 1 is the degree of the polynomial to fit.\n",
    "plt.plot(y_test, m*y_test+b, color='blue', label=\"Actual relation line\")\n",
    "plt.plot(y_test, y_test, color='gold', label=\"Ideal relation line\")\n",
    "plt.title(\"Relation of y_pred vs y_test\", fontsize=14)\n",
    "plt.xlabel(\"y_test\", fontsize=12)\n",
    "plt.ylabel(\"y_pred\", fontsize=12)\n",
    "plt.legend()\n",
    "plt.show()\n",
    "print(\"Slope: m=\",\"{:.2f}\".format(m))\n",
    "print(\"Intercept: b=\",\"{:.2f}\".format(b))"
   ]
  },
  {
   "cell_type": "markdown",
   "metadata": {},
   "source": [
    "### Calculating Regression model's precision (Aspect Ratio: AR)"
   ]
  },
  {
   "cell_type": "code",
   "execution_count": 26,
   "metadata": {},
   "outputs": [
    {
     "name": "stdout",
     "output_type": "stream",
     "text": [
      "R:  0.92\n",
      "R-squared between y_pred and y_test:  0.83\n"
     ]
    }
   ],
   "source": [
    "#Estimating correlation coefficient and R^2 between Y_pred and Y_test\n",
    "from sklearn.metrics import r2_score\n",
    "correlation_matrix = np.corrcoef(y_test, y_pred)\n",
    "correlation_xy = correlation_matrix[0,1]\n",
    "r_squared = correlation_xy**2\n",
    "print(\"R: \", \"{:.2f}\".format(correlation_xy))\n",
    "print(\"R-squared between y_pred and y_test: \", \"{:.2f}\".format(r2_score(y_test,y_pred)))"
   ]
  },
  {
   "cell_type": "code",
   "execution_count": 27,
   "metadata": {},
   "outputs": [
    {
     "name": "stdout",
     "output_type": "stream",
     "text": [
      " 'Aspect Ratio':  3.45\n"
     ]
    }
   ],
   "source": [
    "# Aspect ratio calculation (precision)\n",
    "AR=(1-correlation_xy)**(0.5-1)\n",
    "print(\" 'Aspect Ratio': \", \"{:.2f}\".format(AR))"
   ]
  },
  {
   "cell_type": "markdown",
   "metadata": {},
   "source": [
    "### Hyperparameter optimization"
   ]
  },
  {
   "cell_type": "code",
   "execution_count": 28,
   "metadata": {},
   "outputs": [],
   "source": [
    "from sklearn.model_selection import RandomizedSearchCV\n",
    "from sklearn.metrics import mean_squared_error"
   ]
  },
  {
   "cell_type": "markdown",
   "metadata": {},
   "source": [
    "### Randomized search"
   ]
  },
  {
   "cell_type": "code",
   "execution_count": 29,
   "metadata": {},
   "outputs": [],
   "source": [
    "# Number of trees in random forest\n",
    "n_estimators = [int(x) for x in np.linspace(start = 100, stop = 800, num = 10)]\n",
    "# Number of features to consider at every split\n",
    "max_features = ['auto', 'sqrt', 'log2']\n",
    "# Maximum number of levels in tree\n",
    "max_depth = [int(x) for x in np.linspace(5, 30, num = 6)]\n",
    "# Minimum number of samples required to split a node\n",
    "min_samples_split = [2, 5, 10, 15, 100]\n",
    "# Minimum number of samples required at each leaf node\n",
    "min_samples_leaf = [1, 2, 5, 10]"
   ]
  },
  {
   "cell_type": "markdown",
   "metadata": {},
   "source": [
    "### Random grid creation"
   ]
  },
  {
   "cell_type": "code",
   "execution_count": 30,
   "metadata": {},
   "outputs": [
    {
     "name": "stdout",
     "output_type": "stream",
     "text": [
      "{'n_estimators': [100, 177, 255, 333, 411, 488, 566, 644, 722, 800], 'max_features': ['auto', 'sqrt', 'log2'], 'max_depth': [5, 10, 15, 20, 25, 30], 'min_samples_split': [2, 5, 10, 15, 100], 'min_samples_leaf': [1, 2, 5, 10]}\n"
     ]
    }
   ],
   "source": [
    "random_grid = {'n_estimators': n_estimators,\n",
    "               'max_features': max_features,\n",
    "               'max_depth': max_depth,\n",
    "               'min_samples_split': min_samples_split,\n",
    "               'min_samples_leaf': min_samples_leaf}\n",
    "\n",
    "print(random_grid)"
   ]
  },
  {
   "cell_type": "markdown",
   "metadata": {},
   "source": [
    "### Creating a function to evaluate random search of models"
   ]
  },
  {
   "cell_type": "code",
   "execution_count": 31,
   "metadata": {},
   "outputs": [],
   "source": [
    "def evaluate(model, X_test, y_test):\n",
    "    preds = model.predict(X_test)\n",
    "    res = r2_score(y_test, preds) #Using R^2 for evaluation \n",
    "    print('Model Performance')\n",
    "    print('R^2 of: ', \"{:.2f}\".format(res))\n",
    "    \n",
    "    return res"
   ]
  },
  {
   "cell_type": "code",
   "execution_count": 32,
   "metadata": {},
   "outputs": [
    {
     "name": "stdout",
     "output_type": "stream",
     "text": [
      "Model Performance\n",
      "R^2 of:  0.83\n"
     ]
    }
   ],
   "source": [
    "regressor_R2 = evaluate(regressor, X_test, y_test)"
   ]
  },
  {
   "cell_type": "markdown",
   "metadata": {},
   "source": [
    "### Performing random search for best hyperparameters"
   ]
  },
  {
   "cell_type": "code",
   "execution_count": 33,
   "metadata": {},
   "outputs": [
    {
     "name": "stdout",
     "output_type": "stream",
     "text": [
      "Fitting 5 folds for each of 100 candidates, totalling 500 fits\n",
      "CPU times: user 1.45 s, sys: 142 ms, total: 1.59 s\n",
      "Wall time: 59.4 s\n"
     ]
    },
    {
     "data": {
      "text/plain": [
       "{'n_estimators': 566,\n",
       " 'min_samples_split': 10,\n",
       " 'min_samples_leaf': 5,\n",
       " 'max_features': 'sqrt',\n",
       " 'max_depth': 30}"
      ]
     },
     "execution_count": 33,
     "metadata": {},
     "output_type": "execute_result"
    }
   ],
   "source": [
    "%%time\n",
    "# Random search of parameters, using default 5 fold cross validation, \n",
    "# search across 100 different combinations\n",
    "\n",
    "random_regressor = RandomizedSearchCV(estimator = regressor, \n",
    "                                      param_distributions = random_grid, \n",
    "                                      n_iter = 100, verbose=2, random_state=44, n_jobs = -1)\n",
    "search = random_regressor.fit(X_train, y_train)\n",
    "search.best_params_"
   ]
  },
  {
   "cell_type": "markdown",
   "metadata": {},
   "source": [
    "Best hyperparameters \n",
    "\n",
    "{'n_estimators': 566,\n",
    "\n",
    " 'min_samples_split': 10,\n",
    " \n",
    " 'min_samples_leaf': 5,\n",
    " \n",
    " 'max_features': 'sqrt',\n",
    " \n",
    " 'max_depth': 30}"
   ]
  },
  {
   "cell_type": "code",
   "execution_count": 34,
   "metadata": {},
   "outputs": [
    {
     "name": "stdout",
     "output_type": "stream",
     "text": [
      "Model Performance\n",
      "R^2 of:  0.87\n",
      "CPU times: user 1.19 s, sys: 136 ms, total: 1.33 s\n",
      "Wall time: 719 ms\n"
     ]
    }
   ],
   "source": [
    "%%time\n",
    "best_regressor=RandomForestRegressor(bootstrap=True, criterion='mse', max_depth=30,\n",
    "           min_samples_leaf=5, min_samples_split=10,max_features='sqrt',\n",
    "           min_weight_fraction_leaf=0.0, n_estimators=566, n_jobs=-1,\n",
    "           random_state=44, verbose=0, warm_start=False) #Creating an object of Random Forest Regressor\n",
    "best_regressor.fit(X_train, y_train)\n",
    "best_regressor_R2=evaluate(best_regressor,X_test,y_test)"
   ]
  },
  {
   "cell_type": "code",
   "execution_count": 35,
   "metadata": {},
   "outputs": [],
   "source": [
    "y_best_pred=best_regressor.predict(X_test)"
   ]
  },
  {
   "cell_type": "code",
   "execution_count": 36,
   "metadata": {},
   "outputs": [
    {
     "data": {
      "image/png": "[encoded data removed]",
      "text/plain": [
       "<Figure size 432x288 with 1 Axes>"
      ]
     },
     "metadata": {
      "needs_background": "light"
     },
     "output_type": "display_data"
    },
    {
     "name": "stdout",
     "output_type": "stream",
     "text": [
      "Slope: m= 0.88\n",
      "Intercept: b= 1780.92\n"
     ]
    }
   ],
   "source": [
    "plt.scatter(y_test, y_best_pred,  color='cyan')\n",
    "m, b = np.polyfit(y_test, y_best_pred, 1) # 1 is the degree of the polynomial to fit.\n",
    "plt.plot(y_test, m*y_test+b, color='blue', label=\"Actual relation line\")\n",
    "plt.plot(y_test, y_test, color='gold', label=\"Ideal relation line\")\n",
    "plt.title(\"Relation of y_pred vs y_test\", fontsize=14)\n",
    "plt.xlabel(\"y_test\", fontsize=12)\n",
    "plt.ylabel(\"y_pred\", fontsize=12)\n",
    "plt.legend()\n",
    "plt.show()\n",
    "print(\"Slope: m=\",\"{:.2f}\".format(m))\n",
    "print(\"Intercept: b=\",\"{:.2f}\".format(b))"
   ]
  },
  {
   "cell_type": "code",
   "execution_count": 37,
   "metadata": {},
   "outputs": [
    {
     "name": "stdout",
     "output_type": "stream",
     "text": [
      "R-squared between y_best_pred and y_test:  0.87\n"
     ]
    }
   ],
   "source": [
    "#Estimating correlation coefficient and R^2 between Y_best_pred and Y_test\n",
    "\n",
    "correlation_matrix = np.corrcoef(y_test, y_best_pred)\n",
    "correlation_xy = correlation_matrix[0,1]\n",
    "r_squared = correlation_xy**2\n",
    "print(\"R-squared between y_best_pred and y_test: \", \"{:.2f}\".format(r_squared))"
   ]
  },
  {
   "cell_type": "code",
   "execution_count": 38,
   "metadata": {
    "tags": []
   },
   "outputs": [
    {
     "name": "stdout",
     "output_type": "stream",
     "text": [
      " 'Aspect Ratio':  3.79\n"
     ]
    }
   ],
   "source": [
    "# Aspect ratio calculation (precision)\n",
    "AR=(1-correlation_xy)**(0.5-1)\n",
    "print(\" 'Aspect Ratio': \", \"{:.2f}\".format(AR))"
   ]
  },
  {
   "cell_type": "markdown",
   "metadata": {
    "tags": []
   },
   "source": [
    "### Performing grid search"
   ]
  },
  {
   "cell_type": "code",
   "execution_count": 47,
   "metadata": {},
   "outputs": [],
   "source": [
    "from sklearn.model_selection import GridSearchCV"
   ]
  },
  {
   "cell_type": "code",
   "execution_count": 48,
   "metadata": {},
   "outputs": [],
   "source": [
    "# Number of trees in random forest\n",
    "n_estimators = [int(x) for x in np.linspace(start = 100, stop = 400, num = 5)]\n",
    "# Number of features to consider at every split\n",
    "max_features = ['auto', 'sqrt', 'log2']\n",
    "# Maximum number of levels in tree\n",
    "max_depth = [int(x) for x in np.linspace(5, 30, num = 3)]\n",
    "# Minimum number of samples required to split a node\n",
    "min_samples_split = [2, 5, 10]\n",
    "# Minimum number of samples required at each leaf node\n",
    "min_samples_leaf = [1, 2, 5]"
   ]
  },
  {
   "cell_type": "code",
   "execution_count": 49,
   "metadata": {},
   "outputs": [
    {
     "name": "stdout",
     "output_type": "stream",
     "text": [
      "{'n_estimators': [100, 175, 250, 325, 400], 'max_features': ['auto', 'sqrt', 'log2'], 'max_depth': [5, 17, 30], 'min_samples_split': [2, 5, 10], 'min_samples_leaf': [1, 2, 5]}\n"
     ]
    }
   ],
   "source": [
    "search_grid = {'n_estimators': n_estimators,\n",
    "               'max_features': max_features,\n",
    "               'max_depth': max_depth,\n",
    "               'min_samples_split': min_samples_split,\n",
    "               'min_samples_leaf': min_samples_leaf}\n",
    "\n",
    "print(search_grid)"
   ]
  },
  {
   "cell_type": "code",
   "execution_count": 50,
   "metadata": {},
   "outputs": [
    {
     "name": "stdout",
     "output_type": "stream",
     "text": [
      "Fitting 5 folds for each of 405 candidates, totalling 2025 fits\n",
      "CPU times: user 2.41 s, sys: 377 ms, total: 2.79 s\n",
      "Wall time: 2min 34s\n"
     ]
    },
    {
     "data": {
      "text/plain": [
       "{'max_depth': 5,\n",
       " 'max_features': 'sqrt',\n",
       " 'min_samples_leaf': 2,\n",
       " 'min_samples_split': 5,\n",
       " 'n_estimators': 175}"
      ]
     },
     "execution_count": 50,
     "metadata": {},
     "output_type": "execute_result"
    }
   ],
   "source": [
    "%%time\n",
    "# Random search of parameters, using default 5 fold cross validation, \n",
    "# search across 100 different combinations\n",
    "\n",
    "grid_regressor = GridSearchCV(regressor, search_grid, scoring='r2', n_jobs=-1,\n",
    "                              refit=True, cv=None, verbose=2)\n",
    "search = grid_regressor.fit(X_train, y_train)\n",
    "search.best_params_"
   ]
  },
  {
   "cell_type": "markdown",
   "metadata": {},
   "source": [
    "Best hyper parameters from grid search:\n",
    "    \n",
    "{'max_depth': 5,\n",
    " 'max_features': 'sqrt',\n",
    " 'min_samples_leaf': 2,\n",
    " 'min_samples_split': 5,\n",
    " 'n_estimators': 175}\n"
   ]
  },
  {
   "cell_type": "code",
   "execution_count": 52,
   "metadata": {},
   "outputs": [
    {
     "name": "stdout",
     "output_type": "stream",
     "text": [
      "Model Performance\n",
      "R^2 of:  0.87\n",
      "CPU times: user 376 ms, sys: 58.9 ms, total: 435 ms\n",
      "Wall time: 302 ms\n"
     ]
    }
   ],
   "source": [
    "%%time\n",
    "best_grid_regressor=RandomForestRegressor(bootstrap=True, criterion='mse', max_depth=5,\n",
    "           min_samples_leaf=2, min_samples_split=5, max_features='sqrt',\n",
    "           min_weight_fraction_leaf=0.0, n_estimators=175, n_jobs=-1,\n",
    "           random_state=44, verbose=0, warm_start=False) #Creating an object of Random Forest Regressor\n",
    "best_grid_regressor.fit(X_train, y_train)\n",
    "best_grid_regressor_R2=evaluate(best_regressor,X_test,y_test)"
   ]
  },
  {
   "cell_type": "code",
   "execution_count": 53,
   "metadata": {},
   "outputs": [],
   "source": [
    "y_best_gpred=best_grid_regressor.predict(X_test)"
   ]
  },
  {
   "cell_type": "code",
   "execution_count": 54,
   "metadata": {},
   "outputs": [
    {
     "data": {
      "image/png": "[encoded data removed]",
      "text/plain": [
       "<Figure size 432x288 with 1 Axes>"
      ]
     },
     "metadata": {
      "needs_background": "light"
     },
     "output_type": "display_data"
    },
    {
     "name": "stdout",
     "output_type": "stream",
     "text": [
      "Slope: m= 0.87\n",
      "Intercept: b= 1944.81\n"
     ]
    }
   ],
   "source": [
    "plt.scatter(y_test, y_best_gpred,  color='cyan')\n",
    "m, b = np.polyfit(y_test, y_best_gpred, 1) # 1 is the degree of the polynomial to fit.\n",
    "plt.plot(y_test, m*y_test+b, color='blue', label=\"Actual relation line\")\n",
    "plt.plot(y_test, y_test, color='gold', label=\"Ideal relation line\")\n",
    "plt.title(\"Relation of y_pred vs y_test\", fontsize=14)\n",
    "plt.xlabel(\"y_test\", fontsize=12)\n",
    "plt.ylabel(\"y_pred\", fontsize=12)\n",
    "plt.legend()\n",
    "plt.show()\n",
    "print(\"Slope: m=\",\"{:.2f}\".format(m))\n",
    "print(\"Intercept: b=\",\"{:.2f}\".format(b))"
   ]
  },
  {
   "cell_type": "code",
   "execution_count": 55,
   "metadata": {},
   "outputs": [
    {
     "name": "stdout",
     "output_type": "stream",
     "text": [
      "R-squared between y_best_gpred and y_test:  0.87\n"
     ]
    }
   ],
   "source": [
    "#Estimating correlation coefficient and R^2 between Y_best_pred and Y_test\n",
    "\n",
    "correlation_matrix = np.corrcoef(y_test, y_best_gpred)\n",
    "correlation_xy = correlation_matrix[0,1]\n",
    "r_squared = correlation_xy**2\n",
    "print(\"R-squared between y_best_gpred and y_test: \", \"{:.2f}\".format(r_squared))"
   ]
  },
  {
   "cell_type": "code",
   "execution_count": 56,
   "metadata": {},
   "outputs": [
    {
     "name": "stdout",
     "output_type": "stream",
     "text": [
      " 'Aspect Ratio':  3.82\n"
     ]
    }
   ],
   "source": [
    "# Aspect ratio calculation (precision)\n",
    "AR=(1-correlation_xy)**(0.5-1)\n",
    "print(\" 'Aspect Ratio': \", \"{:.2f}\".format(AR))"
   ]
  },
  {
   "cell_type": "code",
   "execution_count": null,
   "metadata": {},
   "outputs": [],
   "source": []
  }
 ],
 "metadata": {
  "kernelspec": {
   "display_name": "Python 3",
   "language": "python",
   "name": "python3"
  },
  "language_info": {
   "codemirror_mode": {
    "name": "ipython",
    "version": 3
   },
   "file_extension": ".py",
   "mimetype": "text/x-python",
   "name": "python",
   "nbconvert_exporter": "python",
   "pygments_lexer": "ipython3",
   "version": "3.8.8"
  }
 },
 "nbformat": 4,
 "nbformat_minor": 4
}
